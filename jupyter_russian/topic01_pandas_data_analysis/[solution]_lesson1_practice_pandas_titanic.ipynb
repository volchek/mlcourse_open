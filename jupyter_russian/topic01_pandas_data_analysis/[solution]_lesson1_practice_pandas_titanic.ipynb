{
 "cells": [
  {
   "cell_type": "markdown",
   "metadata": {},
   "source": [
    "<center>\n",
    "<img src=\"../../img/ods_stickers.jpg\">\n",
    "## Открытый курс по машинному обучению. Сессия № 2\n",
    "</center>\n",
    "Автор материала: программист-исследователь Mail.ru Group, старший преподаватель Факультета Компьютерных Наук ВШЭ Юрий Кашницкий. Материал распространяется на условиях лицензии [Creative Commons CC BY-NC-SA 4.0](https://creativecommons.org/licenses/by-nc-sa/4.0/). Можно использовать в любых целях (редактировать, поправлять и брать за основу), кроме коммерческих, но с обязательным упоминанием автора материала."
   ]
  },
  {
   "cell_type": "markdown",
   "metadata": {},
   "source": [
    "# <center>Тема 1. Первичный анализ данных с Pandas</center>\n",
    "## <center>Практическое задание. Анализ данных пассажиров \"Титаника\". Решение</center>\n",
    "\n",
    "**Заполните код в клетках (где написано \"Ваш код здесь\") и ответьте на вопросы в [веб-форме](https://goo.gl/SbRcpW).**"
   ]
  },
  {
   "cell_type": "code",
   "execution_count": 2,
   "metadata": {},
   "outputs": [],
   "source": [
    "import numpy as np\n",
    "import pandas as pd\n",
    "%matplotlib inline\n",
    "from matplotlib import pyplot as plt\n",
    "pd.set_option(\"display.precision\", 2)"
   ]
  },
  {
   "cell_type": "markdown",
   "metadata": {},
   "source": [
    "**Считаем данные из файла в память в виде объекта Pandas.DataFrame**"
   ]
  },
  {
   "cell_type": "code",
   "execution_count": 3,
   "metadata": {},
   "outputs": [],
   "source": [
    "data = pd.read_csv('../../data/titanic_train.csv',\n",
    "                  index_col='PassengerId')"
   ]
  },
  {
   "cell_type": "markdown",
   "metadata": {},
   "source": [
    "**Данные представлены в виде таблицы. Посмотрим на первые 5 строк:**"
   ]
  },
  {
   "cell_type": "code",
   "execution_count": 4,
   "metadata": {},
   "outputs": [
    {
     "data": {
      "text/html": [
       "<div>\n",
       "<style scoped>\n",
       "    .dataframe tbody tr th:only-of-type {\n",
       "        vertical-align: middle;\n",
       "    }\n",
       "\n",
       "    .dataframe tbody tr th {\n",
       "        vertical-align: top;\n",
       "    }\n",
       "\n",
       "    .dataframe thead th {\n",
       "        text-align: right;\n",
       "    }\n",
       "</style>\n",
       "<table border=\"1\" class=\"dataframe\">\n",
       "  <thead>\n",
       "    <tr style=\"text-align: right;\">\n",
       "      <th></th>\n",
       "      <th>Survived</th>\n",
       "      <th>Pclass</th>\n",
       "      <th>Name</th>\n",
       "      <th>Sex</th>\n",
       "      <th>Age</th>\n",
       "      <th>SibSp</th>\n",
       "      <th>Parch</th>\n",
       "      <th>Ticket</th>\n",
       "      <th>Fare</th>\n",
       "      <th>Cabin</th>\n",
       "      <th>Embarked</th>\n",
       "    </tr>\n",
       "    <tr>\n",
       "      <th>PassengerId</th>\n",
       "      <th></th>\n",
       "      <th></th>\n",
       "      <th></th>\n",
       "      <th></th>\n",
       "      <th></th>\n",
       "      <th></th>\n",
       "      <th></th>\n",
       "      <th></th>\n",
       "      <th></th>\n",
       "      <th></th>\n",
       "      <th></th>\n",
       "    </tr>\n",
       "  </thead>\n",
       "  <tbody>\n",
       "    <tr>\n",
       "      <th>1</th>\n",
       "      <td>0</td>\n",
       "      <td>3</td>\n",
       "      <td>Braund, Mr. Owen Harris</td>\n",
       "      <td>male</td>\n",
       "      <td>22.0</td>\n",
       "      <td>1</td>\n",
       "      <td>0</td>\n",
       "      <td>A/5 21171</td>\n",
       "      <td>7.25</td>\n",
       "      <td>NaN</td>\n",
       "      <td>S</td>\n",
       "    </tr>\n",
       "    <tr>\n",
       "      <th>2</th>\n",
       "      <td>1</td>\n",
       "      <td>1</td>\n",
       "      <td>Cumings, Mrs. John Bradley (Florence Briggs Th...</td>\n",
       "      <td>female</td>\n",
       "      <td>38.0</td>\n",
       "      <td>1</td>\n",
       "      <td>0</td>\n",
       "      <td>PC 17599</td>\n",
       "      <td>71.28</td>\n",
       "      <td>C85</td>\n",
       "      <td>C</td>\n",
       "    </tr>\n",
       "    <tr>\n",
       "      <th>3</th>\n",
       "      <td>1</td>\n",
       "      <td>3</td>\n",
       "      <td>Heikkinen, Miss. Laina</td>\n",
       "      <td>female</td>\n",
       "      <td>26.0</td>\n",
       "      <td>0</td>\n",
       "      <td>0</td>\n",
       "      <td>STON/O2. 3101282</td>\n",
       "      <td>7.92</td>\n",
       "      <td>NaN</td>\n",
       "      <td>S</td>\n",
       "    </tr>\n",
       "    <tr>\n",
       "      <th>4</th>\n",
       "      <td>1</td>\n",
       "      <td>1</td>\n",
       "      <td>Futrelle, Mrs. Jacques Heath (Lily May Peel)</td>\n",
       "      <td>female</td>\n",
       "      <td>35.0</td>\n",
       "      <td>1</td>\n",
       "      <td>0</td>\n",
       "      <td>113803</td>\n",
       "      <td>53.10</td>\n",
       "      <td>C123</td>\n",
       "      <td>S</td>\n",
       "    </tr>\n",
       "    <tr>\n",
       "      <th>5</th>\n",
       "      <td>0</td>\n",
       "      <td>3</td>\n",
       "      <td>Allen, Mr. William Henry</td>\n",
       "      <td>male</td>\n",
       "      <td>35.0</td>\n",
       "      <td>0</td>\n",
       "      <td>0</td>\n",
       "      <td>373450</td>\n",
       "      <td>8.05</td>\n",
       "      <td>NaN</td>\n",
       "      <td>S</td>\n",
       "    </tr>\n",
       "  </tbody>\n",
       "</table>\n",
       "</div>"
      ],
      "text/plain": [
       "             Survived  Pclass  \\\n",
       "PassengerId                     \n",
       "1                   0       3   \n",
       "2                   1       1   \n",
       "3                   1       3   \n",
       "4                   1       1   \n",
       "5                   0       3   \n",
       "\n",
       "                                                          Name     Sex   Age  \\\n",
       "PassengerId                                                                    \n",
       "1                                      Braund, Mr. Owen Harris    male  22.0   \n",
       "2            Cumings, Mrs. John Bradley (Florence Briggs Th...  female  38.0   \n",
       "3                                       Heikkinen, Miss. Laina  female  26.0   \n",
       "4                 Futrelle, Mrs. Jacques Heath (Lily May Peel)  female  35.0   \n",
       "5                                     Allen, Mr. William Henry    male  35.0   \n",
       "\n",
       "             SibSp  Parch            Ticket   Fare Cabin Embarked  \n",
       "PassengerId                                                        \n",
       "1                1      0         A/5 21171   7.25   NaN        S  \n",
       "2                1      0          PC 17599  71.28   C85        C  \n",
       "3                0      0  STON/O2. 3101282   7.92   NaN        S  \n",
       "4                1      0            113803  53.10  C123        S  \n",
       "5                0      0            373450   8.05   NaN        S  "
      ]
     },
     "execution_count": 4,
     "metadata": {},
     "output_type": "execute_result"
    }
   ],
   "source": [
    "data.head(5)"
   ]
  },
  {
   "cell_type": "code",
   "execution_count": 4,
   "metadata": {},
   "outputs": [
    {
     "data": {
      "text/html": [
       "<div>\n",
       "<style>\n",
       "    .dataframe thead tr:only-child th {\n",
       "        text-align: right;\n",
       "    }\n",
       "\n",
       "    .dataframe thead th {\n",
       "        text-align: left;\n",
       "    }\n",
       "\n",
       "    .dataframe tbody tr th {\n",
       "        vertical-align: top;\n",
       "    }\n",
       "</style>\n",
       "<table border=\"1\" class=\"dataframe\">\n",
       "  <thead>\n",
       "    <tr style=\"text-align: right;\">\n",
       "      <th></th>\n",
       "      <th>Survived</th>\n",
       "      <th>Pclass</th>\n",
       "      <th>Age</th>\n",
       "      <th>SibSp</th>\n",
       "      <th>Parch</th>\n",
       "      <th>Fare</th>\n",
       "    </tr>\n",
       "  </thead>\n",
       "  <tbody>\n",
       "    <tr>\n",
       "      <th>count</th>\n",
       "      <td>891.00</td>\n",
       "      <td>891.00</td>\n",
       "      <td>714.00</td>\n",
       "      <td>891.00</td>\n",
       "      <td>891.00</td>\n",
       "      <td>891.00</td>\n",
       "    </tr>\n",
       "    <tr>\n",
       "      <th>mean</th>\n",
       "      <td>0.38</td>\n",
       "      <td>2.31</td>\n",
       "      <td>29.70</td>\n",
       "      <td>0.52</td>\n",
       "      <td>0.38</td>\n",
       "      <td>32.20</td>\n",
       "    </tr>\n",
       "    <tr>\n",
       "      <th>std</th>\n",
       "      <td>0.49</td>\n",
       "      <td>0.84</td>\n",
       "      <td>14.53</td>\n",
       "      <td>1.10</td>\n",
       "      <td>0.81</td>\n",
       "      <td>49.69</td>\n",
       "    </tr>\n",
       "    <tr>\n",
       "      <th>min</th>\n",
       "      <td>0.00</td>\n",
       "      <td>1.00</td>\n",
       "      <td>0.42</td>\n",
       "      <td>0.00</td>\n",
       "      <td>0.00</td>\n",
       "      <td>0.00</td>\n",
       "    </tr>\n",
       "    <tr>\n",
       "      <th>25%</th>\n",
       "      <td>0.00</td>\n",
       "      <td>2.00</td>\n",
       "      <td>20.12</td>\n",
       "      <td>0.00</td>\n",
       "      <td>0.00</td>\n",
       "      <td>7.91</td>\n",
       "    </tr>\n",
       "    <tr>\n",
       "      <th>50%</th>\n",
       "      <td>0.00</td>\n",
       "      <td>3.00</td>\n",
       "      <td>28.00</td>\n",
       "      <td>0.00</td>\n",
       "      <td>0.00</td>\n",
       "      <td>14.45</td>\n",
       "    </tr>\n",
       "    <tr>\n",
       "      <th>75%</th>\n",
       "      <td>1.00</td>\n",
       "      <td>3.00</td>\n",
       "      <td>38.00</td>\n",
       "      <td>1.00</td>\n",
       "      <td>0.00</td>\n",
       "      <td>31.00</td>\n",
       "    </tr>\n",
       "    <tr>\n",
       "      <th>max</th>\n",
       "      <td>1.00</td>\n",
       "      <td>3.00</td>\n",
       "      <td>80.00</td>\n",
       "      <td>8.00</td>\n",
       "      <td>6.00</td>\n",
       "      <td>512.33</td>\n",
       "    </tr>\n",
       "  </tbody>\n",
       "</table>\n",
       "</div>"
      ],
      "text/plain": [
       "       Survived  Pclass     Age   SibSp   Parch    Fare\n",
       "count    891.00  891.00  714.00  891.00  891.00  891.00\n",
       "mean       0.38    2.31   29.70    0.52    0.38   32.20\n",
       "std        0.49    0.84   14.53    1.10    0.81   49.69\n",
       "min        0.00    1.00    0.42    0.00    0.00    0.00\n",
       "25%        0.00    2.00   20.12    0.00    0.00    7.91\n",
       "50%        0.00    3.00   28.00    0.00    0.00   14.45\n",
       "75%        1.00    3.00   38.00    1.00    0.00   31.00\n",
       "max        1.00    3.00   80.00    8.00    6.00  512.33"
      ]
     },
     "execution_count": 4,
     "metadata": {},
     "output_type": "execute_result"
    }
   ],
   "source": [
    "data.describe()"
   ]
  },
  {
   "cell_type": "markdown",
   "metadata": {},
   "source": [
    "**Для примера отберем пассажиров, которые сели в Cherbourg (Embarked=C) и заплатили более 200 у.е. за билет (fare > 200).**\n",
    "\n",
    "Убедитесь, что Вы понимаете, как эта конструкция работает. <br>\n",
    "Если нет – посмотрите, как вычисляется выражение в квадратных в скобках."
   ]
  },
  {
   "cell_type": "code",
   "execution_count": 5,
   "metadata": {},
   "outputs": [
    {
     "data": {
      "text/html": [
       "<div>\n",
       "<style>\n",
       "    .dataframe thead tr:only-child th {\n",
       "        text-align: right;\n",
       "    }\n",
       "\n",
       "    .dataframe thead th {\n",
       "        text-align: left;\n",
       "    }\n",
       "\n",
       "    .dataframe tbody tr th {\n",
       "        vertical-align: top;\n",
       "    }\n",
       "</style>\n",
       "<table border=\"1\" class=\"dataframe\">\n",
       "  <thead>\n",
       "    <tr style=\"text-align: right;\">\n",
       "      <th></th>\n",
       "      <th>Survived</th>\n",
       "      <th>Pclass</th>\n",
       "      <th>Name</th>\n",
       "      <th>Sex</th>\n",
       "      <th>Age</th>\n",
       "      <th>SibSp</th>\n",
       "      <th>Parch</th>\n",
       "      <th>Ticket</th>\n",
       "      <th>Fare</th>\n",
       "      <th>Cabin</th>\n",
       "      <th>Embarked</th>\n",
       "    </tr>\n",
       "    <tr>\n",
       "      <th>PassengerId</th>\n",
       "      <th></th>\n",
       "      <th></th>\n",
       "      <th></th>\n",
       "      <th></th>\n",
       "      <th></th>\n",
       "      <th></th>\n",
       "      <th></th>\n",
       "      <th></th>\n",
       "      <th></th>\n",
       "      <th></th>\n",
       "      <th></th>\n",
       "    </tr>\n",
       "  </thead>\n",
       "  <tbody>\n",
       "    <tr>\n",
       "      <th>119</th>\n",
       "      <td>0</td>\n",
       "      <td>1</td>\n",
       "      <td>Baxter, Mr. Quigg Edmond</td>\n",
       "      <td>male</td>\n",
       "      <td>24.0</td>\n",
       "      <td>0</td>\n",
       "      <td>1</td>\n",
       "      <td>PC 17558</td>\n",
       "      <td>247.52</td>\n",
       "      <td>B58 B60</td>\n",
       "      <td>C</td>\n",
       "    </tr>\n",
       "    <tr>\n",
       "      <th>259</th>\n",
       "      <td>1</td>\n",
       "      <td>1</td>\n",
       "      <td>Ward, Miss. Anna</td>\n",
       "      <td>female</td>\n",
       "      <td>35.0</td>\n",
       "      <td>0</td>\n",
       "      <td>0</td>\n",
       "      <td>PC 17755</td>\n",
       "      <td>512.33</td>\n",
       "      <td>NaN</td>\n",
       "      <td>C</td>\n",
       "    </tr>\n",
       "    <tr>\n",
       "      <th>300</th>\n",
       "      <td>1</td>\n",
       "      <td>1</td>\n",
       "      <td>Baxter, Mrs. James (Helene DeLaudeniere Chaput)</td>\n",
       "      <td>female</td>\n",
       "      <td>50.0</td>\n",
       "      <td>0</td>\n",
       "      <td>1</td>\n",
       "      <td>PC 17558</td>\n",
       "      <td>247.52</td>\n",
       "      <td>B58 B60</td>\n",
       "      <td>C</td>\n",
       "    </tr>\n",
       "    <tr>\n",
       "      <th>312</th>\n",
       "      <td>1</td>\n",
       "      <td>1</td>\n",
       "      <td>Ryerson, Miss. Emily Borie</td>\n",
       "      <td>female</td>\n",
       "      <td>18.0</td>\n",
       "      <td>2</td>\n",
       "      <td>2</td>\n",
       "      <td>PC 17608</td>\n",
       "      <td>262.38</td>\n",
       "      <td>B57 B59 B63 B66</td>\n",
       "      <td>C</td>\n",
       "    </tr>\n",
       "    <tr>\n",
       "      <th>378</th>\n",
       "      <td>0</td>\n",
       "      <td>1</td>\n",
       "      <td>Widener, Mr. Harry Elkins</td>\n",
       "      <td>male</td>\n",
       "      <td>27.0</td>\n",
       "      <td>0</td>\n",
       "      <td>2</td>\n",
       "      <td>113503</td>\n",
       "      <td>211.50</td>\n",
       "      <td>C82</td>\n",
       "      <td>C</td>\n",
       "    </tr>\n",
       "  </tbody>\n",
       "</table>\n",
       "</div>"
      ],
      "text/plain": [
       "             Survived  Pclass  \\\n",
       "PassengerId                     \n",
       "119                 0       1   \n",
       "259                 1       1   \n",
       "300                 1       1   \n",
       "312                 1       1   \n",
       "378                 0       1   \n",
       "\n",
       "                                                        Name     Sex   Age  \\\n",
       "PassengerId                                                                  \n",
       "119                                 Baxter, Mr. Quigg Edmond    male  24.0   \n",
       "259                                         Ward, Miss. Anna  female  35.0   \n",
       "300          Baxter, Mrs. James (Helene DeLaudeniere Chaput)  female  50.0   \n",
       "312                               Ryerson, Miss. Emily Borie  female  18.0   \n",
       "378                                Widener, Mr. Harry Elkins    male  27.0   \n",
       "\n",
       "             SibSp  Parch    Ticket    Fare            Cabin Embarked  \n",
       "PassengerId                                                            \n",
       "119              0      1  PC 17558  247.52          B58 B60        C  \n",
       "259              0      0  PC 17755  512.33              NaN        C  \n",
       "300              0      1  PC 17558  247.52          B58 B60        C  \n",
       "312              2      2  PC 17608  262.38  B57 B59 B63 B66        C  \n",
       "378              0      2    113503  211.50              C82        C  "
      ]
     },
     "execution_count": 5,
     "metadata": {},
     "output_type": "execute_result"
    }
   ],
   "source": [
    "data[(data['Embarked'] == 'C') & (data.Fare > 200)].head()"
   ]
  },
  {
   "cell_type": "markdown",
   "metadata": {},
   "source": [
    "**Можно отсортировать этих людей по убыванию платы за билет.**"
   ]
  },
  {
   "cell_type": "code",
   "execution_count": 6,
   "metadata": {},
   "outputs": [
    {
     "data": {
      "text/html": [
       "<div>\n",
       "<style>\n",
       "    .dataframe thead tr:only-child th {\n",
       "        text-align: right;\n",
       "    }\n",
       "\n",
       "    .dataframe thead th {\n",
       "        text-align: left;\n",
       "    }\n",
       "\n",
       "    .dataframe tbody tr th {\n",
       "        vertical-align: top;\n",
       "    }\n",
       "</style>\n",
       "<table border=\"1\" class=\"dataframe\">\n",
       "  <thead>\n",
       "    <tr style=\"text-align: right;\">\n",
       "      <th></th>\n",
       "      <th>Survived</th>\n",
       "      <th>Pclass</th>\n",
       "      <th>Name</th>\n",
       "      <th>Sex</th>\n",
       "      <th>Age</th>\n",
       "      <th>SibSp</th>\n",
       "      <th>Parch</th>\n",
       "      <th>Ticket</th>\n",
       "      <th>Fare</th>\n",
       "      <th>Cabin</th>\n",
       "      <th>Embarked</th>\n",
       "    </tr>\n",
       "    <tr>\n",
       "      <th>PassengerId</th>\n",
       "      <th></th>\n",
       "      <th></th>\n",
       "      <th></th>\n",
       "      <th></th>\n",
       "      <th></th>\n",
       "      <th></th>\n",
       "      <th></th>\n",
       "      <th></th>\n",
       "      <th></th>\n",
       "      <th></th>\n",
       "      <th></th>\n",
       "    </tr>\n",
       "  </thead>\n",
       "  <tbody>\n",
       "    <tr>\n",
       "      <th>259</th>\n",
       "      <td>1</td>\n",
       "      <td>1</td>\n",
       "      <td>Ward, Miss. Anna</td>\n",
       "      <td>female</td>\n",
       "      <td>35.0</td>\n",
       "      <td>0</td>\n",
       "      <td>0</td>\n",
       "      <td>PC 17755</td>\n",
       "      <td>512.33</td>\n",
       "      <td>NaN</td>\n",
       "      <td>C</td>\n",
       "    </tr>\n",
       "    <tr>\n",
       "      <th>680</th>\n",
       "      <td>1</td>\n",
       "      <td>1</td>\n",
       "      <td>Cardeza, Mr. Thomas Drake Martinez</td>\n",
       "      <td>male</td>\n",
       "      <td>36.0</td>\n",
       "      <td>0</td>\n",
       "      <td>1</td>\n",
       "      <td>PC 17755</td>\n",
       "      <td>512.33</td>\n",
       "      <td>B51 B53 B55</td>\n",
       "      <td>C</td>\n",
       "    </tr>\n",
       "    <tr>\n",
       "      <th>738</th>\n",
       "      <td>1</td>\n",
       "      <td>1</td>\n",
       "      <td>Lesurer, Mr. Gustave J</td>\n",
       "      <td>male</td>\n",
       "      <td>35.0</td>\n",
       "      <td>0</td>\n",
       "      <td>0</td>\n",
       "      <td>PC 17755</td>\n",
       "      <td>512.33</td>\n",
       "      <td>B101</td>\n",
       "      <td>C</td>\n",
       "    </tr>\n",
       "    <tr>\n",
       "      <th>312</th>\n",
       "      <td>1</td>\n",
       "      <td>1</td>\n",
       "      <td>Ryerson, Miss. Emily Borie</td>\n",
       "      <td>female</td>\n",
       "      <td>18.0</td>\n",
       "      <td>2</td>\n",
       "      <td>2</td>\n",
       "      <td>PC 17608</td>\n",
       "      <td>262.38</td>\n",
       "      <td>B57 B59 B63 B66</td>\n",
       "      <td>C</td>\n",
       "    </tr>\n",
       "    <tr>\n",
       "      <th>743</th>\n",
       "      <td>1</td>\n",
       "      <td>1</td>\n",
       "      <td>Ryerson, Miss. Susan Parker \"Suzette\"</td>\n",
       "      <td>female</td>\n",
       "      <td>21.0</td>\n",
       "      <td>2</td>\n",
       "      <td>2</td>\n",
       "      <td>PC 17608</td>\n",
       "      <td>262.38</td>\n",
       "      <td>B57 B59 B63 B66</td>\n",
       "      <td>C</td>\n",
       "    </tr>\n",
       "  </tbody>\n",
       "</table>\n",
       "</div>"
      ],
      "text/plain": [
       "             Survived  Pclass                                   Name     Sex  \\\n",
       "PassengerId                                                                    \n",
       "259                 1       1                       Ward, Miss. Anna  female   \n",
       "680                 1       1     Cardeza, Mr. Thomas Drake Martinez    male   \n",
       "738                 1       1                 Lesurer, Mr. Gustave J    male   \n",
       "312                 1       1             Ryerson, Miss. Emily Borie  female   \n",
       "743                 1       1  Ryerson, Miss. Susan Parker \"Suzette\"  female   \n",
       "\n",
       "              Age  SibSp  Parch    Ticket    Fare            Cabin Embarked  \n",
       "PassengerId                                                                  \n",
       "259          35.0      0      0  PC 17755  512.33              NaN        C  \n",
       "680          36.0      0      1  PC 17755  512.33      B51 B53 B55        C  \n",
       "738          35.0      0      0  PC 17755  512.33             B101        C  \n",
       "312          18.0      2      2  PC 17608  262.38  B57 B59 B63 B66        C  \n",
       "743          21.0      2      2  PC 17608  262.38  B57 B59 B63 B66        C  "
      ]
     },
     "execution_count": 6,
     "metadata": {},
     "output_type": "execute_result"
    }
   ],
   "source": [
    "data[(data['Embarked'] == 'C') & \n",
    "     (data['Fare'] > 200)].sort_values(by='Fare',\n",
    "                               ascending=False).head()"
   ]
  },
  {
   "cell_type": "markdown",
   "metadata": {},
   "source": [
    "**Пример создания признака.**"
   ]
  },
  {
   "cell_type": "code",
   "execution_count": 5,
   "metadata": {},
   "outputs": [],
   "source": [
    "def age_category(age):\n",
    "    '''\n",
    "    < 30 -> 1\n",
    "    >= 30, <55 -> 2\n",
    "    >= 55 -> 3\n",
    "    '''\n",
    "    if age < 30:\n",
    "        return 1\n",
    "    elif age < 55:\n",
    "        return 2\n",
    "    else:\n",
    "        return 3"
   ]
  },
  {
   "cell_type": "code",
   "execution_count": 8,
   "metadata": {
    "collapsed": true
   },
   "outputs": [],
   "source": [
    "age_categories = [age_category(age) for age in data.Age]\n",
    "data['Age_category'] = age_categories"
   ]
  },
  {
   "cell_type": "markdown",
   "metadata": {},
   "source": [
    "**Другой способ – через `apply`.**"
   ]
  },
  {
   "cell_type": "code",
   "execution_count": 6,
   "metadata": {},
   "outputs": [],
   "source": [
    "data['Age_category'] = data['Age'].apply(age_category)"
   ]
  },
  {
   "cell_type": "markdown",
   "metadata": {},
   "source": [
    "**1. Сколько мужчин / женщин находилось на борту?**\n",
    "- 412 мужчин и 479 женщин\n",
    "- 314 мужчин и 577 женщин\n",
    "- 479 мужчин и 412 женщин\n",
    "- **<font color='green'>577 мужчин и 314 женщин</font>**"
   ]
  },
  {
   "cell_type": "code",
   "execution_count": 10,
   "metadata": {},
   "outputs": [
    {
     "name": "stdout",
     "output_type": "stream",
     "text": [
      "На борту было 577 мужчин и 314 женщин.\n"
     ]
    }
   ],
   "source": [
    "print(\"На борту было {} мужчин и {} женщин.\".format(sum(data['Sex'] == 'male'), \n",
    "                                            sum(data['Sex'] == 'female')))"
   ]
  },
  {
   "cell_type": "markdown",
   "metadata": {},
   "source": [
    "**Проще:**"
   ]
  },
  {
   "cell_type": "code",
   "execution_count": 7,
   "metadata": {},
   "outputs": [
    {
     "data": {
      "text/plain": [
       "male      577\n",
       "female    314\n",
       "Name: Sex, dtype: int64"
      ]
     },
     "execution_count": 7,
     "metadata": {},
     "output_type": "execute_result"
    }
   ],
   "source": [
    "data['Sex'].value_counts()"
   ]
  },
  {
   "cell_type": "markdown",
   "metadata": {},
   "source": [
    "**2. Выведите распределение переменной Pclass (социально-экономический статус) и это же распределение, только для мужчин / женщин по отдельности. Сколько было мужчин 2-го класса?**\n",
    "- 104\n",
    "- **<font color='green'>108</font>**\n",
    "- 112\n",
    "- 125"
   ]
  },
  {
   "cell_type": "code",
   "execution_count": 9,
   "metadata": {},
   "outputs": [
    {
     "data": {
      "text/html": [
       "<div>\n",
       "<style scoped>\n",
       "    .dataframe tbody tr th:only-of-type {\n",
       "        vertical-align: middle;\n",
       "    }\n",
       "\n",
       "    .dataframe tbody tr th {\n",
       "        vertical-align: top;\n",
       "    }\n",
       "\n",
       "    .dataframe thead th {\n",
       "        text-align: right;\n",
       "    }\n",
       "</style>\n",
       "<table border=\"1\" class=\"dataframe\">\n",
       "  <thead>\n",
       "    <tr style=\"text-align: right;\">\n",
       "      <th>Sex</th>\n",
       "      <th>female</th>\n",
       "      <th>male</th>\n",
       "      <th>All</th>\n",
       "    </tr>\n",
       "    <tr>\n",
       "      <th>Pclass</th>\n",
       "      <th></th>\n",
       "      <th></th>\n",
       "      <th></th>\n",
       "    </tr>\n",
       "  </thead>\n",
       "  <tbody>\n",
       "    <tr>\n",
       "      <th>1</th>\n",
       "      <td>94</td>\n",
       "      <td>122</td>\n",
       "      <td>216</td>\n",
       "    </tr>\n",
       "    <tr>\n",
       "      <th>2</th>\n",
       "      <td>76</td>\n",
       "      <td>108</td>\n",
       "      <td>184</td>\n",
       "    </tr>\n",
       "    <tr>\n",
       "      <th>3</th>\n",
       "      <td>144</td>\n",
       "      <td>347</td>\n",
       "      <td>491</td>\n",
       "    </tr>\n",
       "    <tr>\n",
       "      <th>All</th>\n",
       "      <td>314</td>\n",
       "      <td>577</td>\n",
       "      <td>891</td>\n",
       "    </tr>\n",
       "  </tbody>\n",
       "</table>\n",
       "</div>"
      ],
      "text/plain": [
       "Sex     female  male  All\n",
       "Pclass                   \n",
       "1           94   122  216\n",
       "2           76   108  184\n",
       "3          144   347  491\n",
       "All        314   577  891"
      ]
     },
     "execution_count": 9,
     "metadata": {},
     "output_type": "execute_result"
    }
   ],
   "source": [
    "pd.crosstab(data['Pclass'], data['Sex'], margins=True)"
   ]
  },
  {
   "cell_type": "markdown",
   "metadata": {},
   "source": [
    "Можно для красоты и картинку нарисовать."
   ]
  },
  {
   "cell_type": "code",
   "execution_count": 17,
   "metadata": {},
   "outputs": [
    {
     "data": {
      "image/png": "iVBORw0KGgoAAAANSUhEUgAAAYgAAAEWCAYAAAB8LwAVAAAABHNCSVQICAgIfAhkiAAAAAlwSFlz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\nLicIMzPL5QRhZma5nCDMzCzX/we8ayDhtfSJkwAAAABJRU5ErkJggg==\n",
      "text/plain": [
       "<matplotlib.figure.Figure at 0x1d61a47c9b0>"
      ]
     },
     "metadata": {},
     "output_type": "display_data"
    }
   ],
   "source": [
    "data['Pclass'].hist(label='all')\n",
    "data[data['Sex'] == 'male']['Pclass'].hist(color=\"green\", \n",
    "                                           label='male')\n",
    "data[data['Sex'] == 'female']['Pclass'].hist(color=\"yellow\", \n",
    "                                             label='female')\n",
    "plt.title('Распределение по классу и полу')\n",
    "plt.xlabel('Pclass')\n",
    "plt.ylabel('Frequency')\n",
    "plt.legend(loc='upper left');"
   ]
  },
  {
   "cell_type": "markdown",
   "metadata": {},
   "source": [
    "**3. Каковы медиана и стандартное отклонение платежей (`Fare`)? Округлите до 2 десятичных знаков.**\n",
    "- **<font color='green'>Медиана – 14.45, стандартное отклонение – 49.69</font>**\n",
    "- Медиана – 15.1, стандартное отклонение – 12.15\n",
    "- Медиана – 13.15, стандартное отклонение – 35.3\n",
    "- Медиана – 17.43, стандартное отклонение – 39.1"
   ]
  },
  {
   "cell_type": "code",
   "execution_count": 14,
   "metadata": {},
   "outputs": [
    {
     "name": "stdout",
     "output_type": "stream",
     "text": [
      "Median fare:  14.45\n",
      "Fare std:  49.69\n"
     ]
    }
   ],
   "source": [
    "print(\"Median fare: \", round(data['Fare'].median(), 2))\n",
    "print(\"Fare std: \", round(data['Fare'].std(), 2))"
   ]
  },
  {
   "cell_type": "markdown",
   "metadata": {},
   "source": [
    "**4. Правда ли, что люди моложе 30 лет выживали чаще, чем люди старше 60 лет? Каковы доли выживших в обеих группах?**\n",
    "- 22.7% среди молодых и 40.6% среди старых\n",
    "- **<font color='green'>40.6% среди молодых и 22.7% среди старых</font>**\n",
    "- 35.3% среди молодых и 27.4% среди старых\n",
    "- 27.4% среди молодых и 35.3% среди старых"
   ]
  },
  {
   "cell_type": "code",
   "execution_count": 15,
   "metadata": {},
   "outputs": [
    {
     "name": "stdout",
     "output_type": "stream",
     "text": [
      "Доли выживших: \n",
      "\t среди молодых 40.6%, \n",
      "\t среди старых 22.7%.\n"
     ]
    }
   ],
   "source": [
    "young_survived = data[data['Age'] < 30]['Survived']\n",
    "old_survived = data[data['Age'] > 60]['Survived']\n",
    "\n",
    "print(\"Доли выживших: \\n\\t среди молодых {}%, \\n\\t среди старых {}%.\".format(\n",
    "    round(100 * young_survived.mean(), 1), \n",
    "        round(100 * old_survived.mean(), 1)))"
   ]
  },
  {
   "cell_type": "markdown",
   "metadata": {},
   "source": [
    "**5. Правда ли, что женщины выживали чаще мужчин? Каковы доли выживших в обеих группах?**\n",
    "- 30.2% среди мужчин и 46.2% среди женщин\n",
    "- 35.7% среди мужчин и 74.2% среди женщин\n",
    "- 21.1% среди мужчин и 46.2% среди женщин\n",
    "- **<font color='green'>18.9% среди мужчин и 74.2% среди женщин</font>**"
   ]
  },
  {
   "cell_type": "code",
   "execution_count": 16,
   "metadata": {},
   "outputs": [
    {
     "name": "stdout",
     "output_type": "stream",
     "text": [
      "Доли выживыших: \n",
      "\t среди женщин 74.2%, \n",
      "\t среди мужчин 18.9%\n"
     ]
    }
   ],
   "source": [
    "male_survived = data[data['Sex'] == 'male']['Survived']\n",
    "female_survived = data[data['Sex'] == 'female']['Survived']\n",
    "\n",
    "\n",
    "print(\"Доли выживыших: \\n\\t среди женщин {}%, \\n\\t среди мужчин {}%\".format(\n",
    "    round(100 * female_survived.mean(), 1), round(100 * male_survived.mean(), 1)))"
   ]
  },
  {
   "cell_type": "code",
   "execution_count": 19,
   "metadata": {},
   "outputs": [
    {
     "data": {
      "text/plain": [
       "Sex\n",
       "female    0.74\n",
       "male      0.19\n",
       "Name: Survived, dtype: float64"
      ]
     },
     "execution_count": 19,
     "metadata": {},
     "output_type": "execute_result"
    }
   ],
   "source": [
    "data.groupby('Sex')['Survived'].mean()"
   ]
  },
  {
   "cell_type": "markdown",
   "metadata": {},
   "source": [
    "**6. Найдите самое популярное имя среди пассажиров Титаника мужского пола?**\n",
    "- Charles\n",
    "- Thomas\n",
    "- **<font color='green'>William</font>**\n",
    "- John"
   ]
  },
  {
   "cell_type": "code",
<<<<<<< HEAD
   "execution_count": 14,
=======
   "execution_count": 25,
   "metadata": {},
   "outputs": [
    {
     "data": {
      "text/plain": [
       "'Owen'"
      ]
     },
     "execution_count": 25,
     "metadata": {},
     "output_type": "execute_result"
    }
   ],
   "source": [
    "data['Name'].head(1).values[0].split('. ')[1].split()[0]"
   ]
  },
  {
   "cell_type": "code",
   "execution_count": 17,
>>>>>>> upstream/master
   "metadata": {},
   "outputs": [
    {
     "data": {
      "text/plain": [
       "William    35\n",
       "John       25\n",
       "George     14\n",
       "Thomas     13\n",
       "Charles    13\n",
       "Name: Name, dtype: int64"
      ]
     },
     "execution_count": 14,
     "metadata": {},
     "output_type": "execute_result"
    }
   ],
   "source": [
    "first_names = data[data['Sex'] == 'male']['Name'].apply(lambda full_name: \n",
    "                full_name.split(',')[1].split()[1])\n",
    "first_names.value_counts().head()"
   ]
  },
  {
   "cell_type": "code",
   "execution_count": 26,
   "metadata": {},
   "outputs": [
    {
     "data": {
      "text/plain": [
       "William      13\n",
       "Anna          9\n",
       "Mary          9\n",
       "Elizabeth     6\n",
       "Thomas        6\n",
       "Name: Name, dtype: int64"
      ]
     },
     "execution_count": 26,
     "metadata": {},
     "output_type": "execute_result"
    }
   ],
   "source": [
    "first_names = data[data['Sex'] == 'female']['Name'].apply(lambda full_name: \n",
    "                full_name.split(',')[1].split()[1])\n",
    "first_names.value_counts().head()"
   ]
  },
  {
   "cell_type": "markdown",
   "metadata": {},
   "source": [
    "**7. Сравните графически распределение стоимости билетов и возраста у спасенных и у погибших. Средний возраст погибших выше, верно?**\n",
    "- **<font color='green'>Да</font>**\n",
    "- Нет\n"
   ]
  },
  {
   "cell_type": "code",
   "execution_count": 15,
   "metadata": {},
   "outputs": [
    {
     "data": {
      "image/png": "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\n",
      "text/plain": [
       "<matplotlib.figure.Figure at 0x75a0870>"
      ]
     },
     "metadata": {},
     "output_type": "display_data"
    }
   ],
   "source": [
    "data[data['Survived'] == 1]['Fare'].hist(color=\"green\", \n",
    "                                         label='Survived')\n",
    "data[data['Survived'] == 0]['Fare'].hist(color=\"red\", \n",
    "                                         label='Died')\n",
    "plt.title('Ticket fare for survived and died')\n",
    "plt.xlabel('Pounds')\n",
    "plt.ylabel('Frequency')\n",
    "plt.legend();"
   ]
  },
  {
   "cell_type": "code",
   "execution_count": 19,
   "metadata": {},
   "outputs": [
    {
     "data": {
      "image/png": "iVBORw0KGgoAAAANSUhEUgAAAYgAAAEWCAYAAAB8LwAVAAAABHNCSVQICAgIfAhkiAAAAAlwSFlz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\nYII=\n",
      "text/plain": [
       "<matplotlib.figure.Figure at 0x1140164a8>"
      ]
     },
     "metadata": {},
     "output_type": "display_data"
    }
   ],
   "source": [
    "data[data['Survived'] == 1]['Age'].hist(color=\"green\", \n",
    "                                         label='Survived', alpha=.5)\n",
    "data[data['Survived'] == 0]['Age'].hist(color=\"red\", \n",
    "                                         label='Died', alpha=.5)\n",
    "plt.title('Age for survived and died')\n",
    "plt.xlabel('Years')\n",
    "plt.ylabel('Frequency')\n",
    "plt.legend();"
   ]
  },
  {
   "cell_type": "code",
   "execution_count": 20,
   "metadata": {
    "collapsed": true
   },
   "outputs": [],
   "source": [
    "#!conda install seaborn\n",
    "import seaborn as sns"
   ]
  },
  {
   "cell_type": "code",
   "execution_count": 21,
   "metadata": {},
   "outputs": [
    {
     "data": {
      "image/png": "iVBORw0KGgoAAAANSUhEUgAAAe0AAAFXCAYAAACP5RboAAAABHNCSVQICAgIfAhkiAAAAAlwSFlz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\nAAAYgmgDAGAIog0AgCGINgAAhvg/8QECjCnqC+4AAAAASUVORK5CYII=\n",
      "text/plain": [
       "<matplotlib.figure.Figure at 0x1161af588>"
      ]
     },
     "metadata": {},
     "output_type": "display_data"
    }
   ],
   "source": [
    "sns.boxplot(data['Survived'], data['Age']);"
   ]
  },
  {
   "cell_type": "markdown",
   "metadata": {},
   "source": [
    "На глаз разницы не видно, посчитаем точно. Видно, что в среднем погибшие были старше."
   ]
  },
  {
   "cell_type": "code",
   "execution_count": 22,
   "metadata": {},
   "outputs": [
    {
     "data": {
      "text/plain": [
       "Survived\n",
       "0    30.63\n",
       "1    28.34\n",
       "Name: Age, dtype: float64"
      ]
     },
     "execution_count": 22,
     "metadata": {},
     "output_type": "execute_result"
    }
   ],
   "source": [
    "data.groupby('Survived')['Age'].mean()"
   ]
  },
  {
   "cell_type": "markdown",
   "metadata": {},
   "source": [
    "**8. Как отличается средний возраст мужчин / женщин в зависимости от класса обслуживания? Выберите верные утверждения:**\n",
    "- **<font color='green'>В среднем мужчины 1-го класса старше 40 лет</font>**\n",
    "- В среднем женщины 1-го класса старше 40 лет\n",
    "- **<font color='green'>Мужчины всех классов в среднем старше женщин того же класса</font>**\n",
    "- **<font color='green'>В среднем люди в 1-ом классе старше, чем во 2-ом, а те старше представителей 3-го класса</font>**"
   ]
  },
  {
   "cell_type": "code",
   "execution_count": 23,
   "metadata": {},
   "outputs": [
    {
     "name": "stdout",
     "output_type": "stream",
     "text": [
      "Average age for male and class 3: 26.51\n",
      "Average age for female and class 3: 21.75\n",
      "Average age for male and class 1: 41.28\n",
      "Average age for female and class 1: 34.61\n",
      "Average age for male and class 2: 30.74\n",
      "Average age for female and class 2: 28.72\n"
     ]
    }
   ],
   "source": [
    "for cl in data['Pclass'].unique():\n",
    "    for sex in data['Sex'].unique():\n",
    "        print(\"Average age for {0} and class {1}: {2}\".format(sex, cl, \n",
    "            round(data[(data['Sex'] == sex)\n",
    "                         & (data['Pclass'] == cl)]['Age'].mean(),2)))"
   ]
  },
  {
   "cell_type": "markdown",
   "metadata": {},
   "source": [
    "Более красивый подход:"
   ]
  },
  {
   "cell_type": "code",
   "execution_count": 24,
   "metadata": {},
   "outputs": [
    {
     "name": "stdout",
     "output_type": "stream",
     "text": [
      "Average age for female and class 1: 34.61\n",
      "Average age for male and class 1: 41.28\n",
      "Average age for female and class 2: 28.72\n",
      "Average age for male and class 2: 30.74\n",
      "Average age for female and class 3: 21.75\n",
      "Average age for male and class 3: 26.51\n"
     ]
    }
   ],
   "source": [
    "for (cl, sex), sub_df in data.groupby(['Pclass', 'Sex']):\n",
    "    print(\"Average age for {0} and class {1}: {2}\".format(sex, cl,\n",
    "                                    round(sub_df['Age'].mean(), 2)))"
   ]
  },
  {
   "cell_type": "markdown",
   "metadata": {},
   "source": [
    "И еще круче:"
   ]
  },
  {
   "cell_type": "code",
   "execution_count": 25,
   "metadata": {},
   "outputs": [
    {
     "data": {
      "text/html": [
       "<div>\n",
       "<style>\n",
       "    .dataframe thead tr:only-child th {\n",
       "        text-align: right;\n",
       "    }\n",
       "\n",
       "    .dataframe thead th {\n",
       "        text-align: left;\n",
       "    }\n",
       "\n",
       "    .dataframe tbody tr th {\n",
       "        vertical-align: top;\n",
       "    }\n",
       "</style>\n",
       "<table border=\"1\" class=\"dataframe\">\n",
       "  <thead>\n",
       "    <tr style=\"text-align: right;\">\n",
       "      <th>Sex</th>\n",
       "      <th>female</th>\n",
       "      <th>male</th>\n",
       "    </tr>\n",
       "    <tr>\n",
       "      <th>Pclass</th>\n",
       "      <th></th>\n",
       "      <th></th>\n",
       "    </tr>\n",
       "  </thead>\n",
       "  <tbody>\n",
       "    <tr>\n",
       "      <th>1</th>\n",
       "      <td>34.61</td>\n",
       "      <td>41.28</td>\n",
       "    </tr>\n",
       "    <tr>\n",
       "      <th>2</th>\n",
       "      <td>28.72</td>\n",
       "      <td>30.74</td>\n",
       "    </tr>\n",
       "    <tr>\n",
       "      <th>3</th>\n",
       "      <td>21.75</td>\n",
       "      <td>26.51</td>\n",
       "    </tr>\n",
       "  </tbody>\n",
       "</table>\n",
       "</div>"
      ],
      "text/plain": [
       "Sex     female   male\n",
       "Pclass               \n",
       "1        34.61  41.28\n",
       "2        28.72  30.74\n",
       "3        21.75  26.51"
      ]
     },
     "execution_count": 25,
     "metadata": {},
     "output_type": "execute_result"
    }
   ],
   "source": [
    "pd.crosstab(data['Pclass'], data['Sex'], \n",
    "            values=data['Age'], aggfunc=np.mean)"
   ]
  },
  {
   "cell_type": "code",
   "execution_count": 26,
   "metadata": {},
   "outputs": [
    {
     "data": {
      "image/png": "iVBORw0KGgoAAAANSUhEUgAAAe0AAAFXCAYAAACP5RboAAAABHNCSVQICAgIfAhkiAAAAAlwSFlz\nAAALEgAACxIB0t1+/AAAHbRJREFUeJzt3X9wVOW9x/HP/hAIgUjoAK3lQglEkFLmUkOiY416JQR1\nuFGM/AiNraAOji2mrTEx5leVIWAUq4wItdY6BERbAqTTWquRIUh6I3MHHA0EdQZ/IEqBrJAsIdns\n7v2DkmsKJJHs2ZPn5P3662w2u8/3JCf5nOecZ5/HFQ6HwwIAAH2e2+4CAABAzxDaAAAYgtAGAMAQ\nhDYAAIYgtAEAMAShDQCAIbx2F9CVo0eb7C4BAICoGjFi6AWfo6cNAIAhCG0AAAxBaAMAYAhCGwAA\nQxDaAAAYgtAGAMAQhDYAAIYgtAEAMAShDQCAISybES0QCCg/P1+ff/653G63HnvsMXm9XuXn58vl\ncikxMVElJSVyuzlvAACgJywL7R07dqi9vV2bNm3Srl279Jvf/EaBQEA5OTlKSUlRcXGxqqurlZaW\nZlUJAAA4imWhPW7cOAWDQYVCITU3N8vr9Wrv3r1KTk6WJKWmpmrXrl2OCu1XX92g3bvrot6u3++X\nJMXGxka97enTUzR37sKotwsA/ZFloT148GB9/vnnuummm+Tz+bR27Vrt3r1bLpdL0pmAaWrqekGQ\n+PjB8no9VpUYcTExA+TxRP9yf1tbqyQpLu7Ck8xbJSZmQJeT2wMAIsey0P7DH/6gH/3oR/rVr36l\nL774Qj/5yU8UCAQ6nvf7/YqLi+vyPXy+U1aVZ4nZs+/Q7Nl3RL3d3NylkqQVK34T9bYlVmMDgEiy\nZZWvuLg4DR16puFLL71U7e3tmjx5surqzlw+rqmpUVJSklXNAwDgOJb1tH/605+qoKBAWVlZCgQC\n+sUvfqEpU6aoqKhIq1atUkJCgtLT061qHgAAx7EstGNjY/X000+f8/WKigqrmgQAwNH4kDQAAIYg\ntAEAMAShDQCAIQhtAAAMQWgDAGAIQhsAAEMQ2gAAGILQBgDAEIQ2AACGILQBADAEoQ0AgCEIbQAA\nDEFoAwAs1dCwTw0N++wuwxEsW+ULAABJ2rZtsyRp0qTJNldiPnraAADLNDTs04ED+3XgwH562xFA\naAMALHO2l/3v27g4hDYAAIYgtAEAlsnIuP2827g4DEQDAFhm0qTJmjjxio5t9A6hDQCwFD3syCG0\nAQCWoocdOdzTBgDAEIQ2AACGILQBADAEoQ0AsBRzj0cOA9EAAJZi7vHIsSy0KysrtWXLFklSa2ur\n9u/fr40bN2r58uVyuVxKTExUSUmJ3G46+0Bfc7ZXxD9Z9NbZucfPbnNM9Y5liTlnzhytX79e69ev\n1/e//30VFhbq2WefVU5OjjZu3KhwOKzq6mqrmgfQC9u2bWaeaEQEc49HluXd3Pfee08fffSR5s2b\np/r6eiUnJ0uSUlNTVVtba3XzAL4hVmUC+i7LQ3vdunW6//77JUnhcFgul0uSFBsbq6amJqubB/AN\n0TNCJDH3eGRZOhDt5MmTOnjwoK666ipJ6nT/2u/3Ky4ursvXx8cPltfrsbJER/B4zvxcR4wYanMl\ncIJLLvF02ua4Qm+MGJGiv/51iiTp2mtTbK7GfJaG9u7du3X11Vd3PJ48ebLq6uqUkpKimpqajjC/\nEJ/vlJXlOUYwGJIkHT3KlQv03s0336r333+/Y5vjCr118823SuJ/VE91daJsaWgfPHhQo0eP7nic\nl5enoqIirVq1SgkJCUpPT7eyeQAXgVWZEGkcR5FjaWjffffdnR6PGzdOFRUVVjYJIAK49wj0TUyu\nAuAc9IyAvomZTQAAMAShDQCAIQhtAAAMQWgDAGAIQhvAOVhKEeibGD0O4BwspQj0TfS0AXTCgiFA\n30VoA+iEBUOAvovQBgBYijESkUNoA+iEpRQRadu2beaqTYQwEA1AJywYgkg6O0bi7DbHVO8Q2gDO\nQQ8bkfLvYyQI7d4htAGcg3+sQN/EPW0AgGUYIxFZ9LQBAJaZNGmy/uM/xnRso3foaQMAYAhCGwBg\nmYaGffrss0/12Wef8lntCCC0AQCWYYa9yCK0AZyDGayAvonQBnAOZrBCpDB6PLIYPQ6gE2awQiQx\nw15kEdoAOmEGK0TatGlX2l2CY3B5HABgqT17/ld79vyv3WU4AqENoBPuQSKSzt5uOXBgP4MbI4DQ\nBtDJ2XuQEydewaVx9Bof+Yos7mkDOAf3IIG+ydKe9rp16zRv3jzNmTNHf/zjH/XJJ59owYIFysrK\nUklJiUKhkJXNA7hI3INEpHC7JbIsC+26ujrt2bNHL7/8stavX68vv/xSZWVlysnJ0caNGxUOh1Vd\nXW1V8wAuEvcgEUncboksy0L77bff1uWXX677779fS5Ys0fXXX6/6+nolJydLklJTU1VbW2tV8wAu\nEvcgEWnTpl3JLZcIseyets/n0+HDh7V27VodOnRI9913n8LhsFwulyQpNjZWTU1NXb5HfPxgeb0e\nq0p0DI/nzLnXiBFDba4ETnDJJZ5O2xxX6K33398rSVq4cJ7NlZjPstAeNmyYEhISNGDAACUkJGjg\nwIH68ssvO573+/2Ki4vr8j18vlNWlecoweCZsQFHj3Z9EgT0xJQp/6n333+/Y5vjCr3R0LCv43ja\nubOOS+Q90NWJsmWXx6+88krt3LlT4XBYR44cUUtLi66++mrV1dVJkmpqapSUlGRV8wAu0tcHoDEY\nDb3F7ZbIsqynfcMNN2j37t3KzMxUOBxWcXGxRo8eraKiIq1atUoJCQlKT0+3qnkAABzH0s9pP/TQ\nQ+d8raKiwsomAfRSRsbtevzxZR3bQG9wPEUWk6sA6IRVmRBJHE+RRWgDOMdll33X7hLgIPSwI4fQ\nBnCO//mfM3MoZGcvsrkSOAE97MhhwRAAnfz9739VS8sptbSc0t///le7ywHwNYQ2gE62bas87zYA\n+xHaAAAYgtAG0ElGxpzzbgMXq6FhH4vPRAihDaCTmTNvVkzMYMXEDNbMmTfbXQ4cYNu2zcyGFiGM\nHgdwDnrYiJSzS72e3WYkee8Q2gDOQQ8bkfLvc48T2r3D5XEAAAxBTxvow159dYN2766Lert+v1/S\nmXXvo2n69BTNnbswqm3CWsw9HlmENoBztLW1Sop+aMN5mHs8sghtoA+bO3ehLT3P3NylkqTy8mei\n3jachx525BDaAABL0cOOHAaiAQBgCEIbAABDENoAABiC0AYAwBCENgAAhiC0AQAwBKENAIAhCG0A\nAAxBaAMAYAhmRAOAfsSORWjsWoBGct4iNPS0AQCWamtr7ViEBr1jaU/7tttu05AhQyRJo0eP1pIl\nS5Sfny+Xy6XExESVlJTI7ea8AQCixY5FaFiAJnIsC+3W1laFw2GtX7++42tLlixRTk6OUlJSVFxc\nrOrqaqWlpVlVAgAAjmJZN7ehoUEtLS1atGiR7rzzTu3du1f19fVKTk6WJKWmpqq2ttaq5gEAcBzL\netqDBg3S4sWLdccdd+jjjz/WPffco3A4LJfLJenMgISmpqYu3yM+frC8Xo9VJTqGx3Pm3GvEiKE2\nVwKn4JhCJHE8RY5loT1u3DiNHTtWLpdL48aN07Bhw1RfX9/xvN/vV1xcXJfv4fOdsqo8RwkGQ5Kk\no0e7PgkCeopjCpHE8fTNdHVyY1lo/+lPf9IHH3yg0tJSHTlyRM3NzbrmmmtUV1enlJQU1dTU6Kqr\nrrKk7eXLS+XzNVry3n3R2X09O9jD6eLjh6ugoNTuMgAg6iwL7czMTD388MNasGCBXC6Xli9frvj4\neBUVFWnVqlVKSEhQenq6JW37fI06fvy4XJfEWPL+fU34X0MTGk86/8pEONBidwkAYBvLQnvAgAF6\n8sknz/l6RUWFVU124rokRkMm/HdU2kL0NH9UZXcJAGAbPiQNAIAhCG0AAAxBaAMAYAhCGwAAQxDa\nAAAYgtAGAMAQhDYAAIYgtAEAMAShDQCAIQhtAAAMQWgDAGAIQhsAAEMQ2gAAGILQBgDAEIQ2AACG\nILQBADAEoQ0AgCEIbQAADEFoAwBgCEIbAABD9Di0T5w4YWUdAACgG92G9v79+zVr1ixlZGToyJEj\nSktLU319fTRqAwAAX9NtaC9btkzPPvushg0bplGjRqm0tFQlJSXRqA0AAHxNt6Hd0tKi8ePHdzy+\n5ppr1NbWZmlRAADgXN2G9rBhw9TQ0CCXyyVJqqqq0qWXXmp5YQAAoDNvd99QWlqqvLw8ffjhh0pK\nStLYsWNVXl4ejdoAAMDXdBvaY8aM0csvv6xTp04pFAppyJAhPX7z48ePa86cOfr9738vr9er/Px8\nuVwuJSYmqqSkRG43nzgDAKCnug3t7OzsjkvjkuRyuTRo0CAlJCRoyZIlF7xUHggEVFxcrEGDBkmS\nysrKlJOTo5SUFBUXF6u6ulppaWkR2g0AAJyv267uhAkTNHHiRBUUFKigoEA/+MEPNHToUI0aNUqP\nPPLIBV+3cuVKzZ8/XyNHjpQk1dfXKzk5WZKUmpqq2traCO0CAAD9Q7c97XfffVeVlZUdjydNmqTb\nb79dTzzxhLZu3Xre11RWVmr48OG69tpr9dvf/laSFA6HO3rssbGxampq6ra4+PjB8no9PdqRr/N4\nuOzuZB6PWyNGDLW7DEc7+zfEzxmRwPEUOd2GdiAQ0IcffqjExERJ0gcffKBQKKTTp08rEAic9zWb\nN2+Wy+XSP/7xD+3fv195eXlqbGzseN7v9ysuLq7b4ny+Uz3dj06CwdBFvQ5mCAZDOnq0+5M+XLyz\nf0P8nBEJHE/fTFcnN92GdmFhoe655x5961vfUjgc1okTJ1ReXq7Vq1crIyPjvK/ZsGFDx3Z2drZK\nS0tVXl6uuro6paSkqKamRlddddVF7AoAAP1Xt6GdkpKiN998U/v27VNNTY3efvttLV68WHv27PlG\nDeXl5amoqEirVq1SQkKC0tPTL7poAAD6o25D+7PPPtMrr7yiyspKnTx5UkuWLNGaNWt63MD69es7\ntisqKi6uSgAAcOHR42+88YYWL16sO+64o+OS+MiRI/Wzn/1Mw4cPj2aNAABAXfS0f/7zn2vWrFl6\n5ZVXNHbsWEnq9HltAAAQXRcM7aqqKm3ZskVZWVn67ne/q1tuuUXBYDCatQEAgK+54OXxyy+/XHl5\neaqpqdG9996rd955R8eOHdO9996rHTt2RLNGAACgHgxE83g8mjFjhmbMmKHGxkZt27ZNTz75pK67\n7rpo1HdR/H6/woHTav6oyu5SEGHhQIv8/rDdZQCALb7R1GHDhw/XXXfdpaoqwhAAgGjrtqdtotjY\nWLUGXRoy4b/tLgUR1vxRlWJjB9tdBgDYgkm6AQAwhCN72kCkLV9eKp+vsftvdIiz+5qbu9TmSqIj\nPn64CgpK7S4D6BahDfSAz9eo443H5I7pH38yIfeZwX6+lq9srsR6oZZ2u0sAeqx//AcCIsAd41X8\nrDF2l4EI8/3tU7tLAHqMe9oAABiC0AYAwBCENgAAhiC0AQAwBKENAIAhCG0AAAxBaAMAYAhCGwAA\nQxDaAAAYgtAGAMAQTGMKADboT4vQ9LcFaCTrFqEhtAHABj5foxqPH9MQt/MveHpCIUlSWz85SWn+\n1/5agdAGAJsMcbv140uH210GIqzihHUnJ84/xQMAwCEIbQAADGHZ5fFgMKjCwkIdPHhQLpdLv/71\nrzVw4EDl5+fL5XIpMTFRJSUlcveD+zkAAESCZaG9fft2SdKmTZtUV1enp556SuFwWDk5OUpJSVFx\ncbGqq6uVlpZmVQkAADiKZd3cGTNm6LHHHpMkHT58WHFxcaqvr1dycrIkKTU1VbW1tVY1DwCA41g6\netzr9SovL09vvPGGnnnmGe3atUsul0uSFBsbq6ampi5fHx8/WF6v5xu36/Fwyd3JPB63RowYGvU2\n4VwcU4g0q44pyz/ytXLlSj344IOaO3euWltbO77u9/sVFxfX5Wt9vlMX1WYwaN1n5GC/YDCko0e7\nPuGzok04F8cUIq03x1RXYW/Zqd7WrVu1bt06SVJMTIxcLpemTJmiuro6SVJNTY2SkpKsah4AAMex\nrKc9c+ZMPfzww1q4cKHa29tVUFCg8ePHq6ioSKtWrVJCQoLS09Otah6IKL/fr1Bru3x/+9TuUhBh\noZZ2+UN+u8sAesSy0B48eLCefvrpc75eUVFhVZMAADga05gCPRAbG6s2d0Dxs8bYXQoizPe3TxUb\nE2t3GUCPMHwRAABDENoAABiC0AYAwBCOvacdDrSo+aMqu8uIinCwTZLk8gywuRLrhQMtkgbbXQYA\n2MKRoR0f37/Wp/X5TkuS4uP6Q5gN7ne/XwA4y5GhXVBQancJUZWbu1SSVF7+jM2VAACsxD1tAAAM\nQWgDAGAIQhsAAEMQ2gAAGILQBgDAEIQ2AACGILQBADAEoQ0AgCEcObkKAPR1fr9fraGQKk402l0K\nIqw5FNJAv9+S96anDQCAIehpA4ANYmNjdUlbq358KXPpO03FiUYNiI215L0JbaCHQi3t8v3tU7vL\niIpQW1CS5B7gsbkS64Va2qUYu6sAeobQBnqgv60s5jt95j5rfMwwmyuJgpj+9/uFuQhtoAdYOQ5A\nX8BANAAADEFoAwBgCEIbAABDENoAABiC0AYAwBCWjB4PBAIqKCjQ559/rra2Nt13332aMGGC8vPz\n5XK5lJiYqJKSErndnDMAANBTloR2VVWVhg0bpvLycn311Ve69dZbNWnSJOXk5CglJUXFxcWqrq5W\nWlqaFc0DAOBIlnR1Z82apQceeECSFA6H5fF4VF9fr+TkZElSamqqamtrrWgaAADHsqSnHfuvOVeb\nm5u1dOlS5eTkaOXKlXK5XB3PNzU1dfs+8fGD5fU6fxrF3vJ4zpx7jRgx1OZK4BQcU9Y7+zOGM3k8\nbkv+fiybEe2LL77Q/fffr6ysLM2ePVvl5eUdz/n9fsXFxXX7Hj7fKavKc5RgMCRJOnq0+xMhoCc4\npqx39mcMZwoGQxf999NV2Ftyqnfs2DEtWrRIubm5yszMlCRNnjxZdXV1kqSamholJSVZ0TQAAI5l\nSWivXbtWJ0+e1Jo1a5Sdna3s7Gzl5ORo9erVmjdvngKBgNLT061oGgAAx7Lk8nhhYaEKCwvP+XpF\nRYUVzQEA0C8wEgIAAEOwNCcA2KQ5FFLFiUa7y7Dc6dCZQXeD+smEWs2hkKxaoZ3QBgAbxMdb9W+9\n7/H7zpyYDOgn+zxc1v1+CW0AsEFBQandJURNbu5SSVJ5+TM2V2K+/nGtAgAAByC0AQAwBKENAIAh\nCG0AAAxBaAMAYAhCGwAAQxDaAAAYgtAGAMAQhDYAAIYgtAEAMAShDQCAIQhtAAAMQWgDAGAIQhsA\nAEMQ2gAAGILQBgDAEIQ2AACGILQBADAEoQ0AgCEIbQAADEFoAwBgCEIbAABDWBra7777rrKzsyVJ\nn3zyiRYsWKCsrCyVlJQoFApZ2TQAAI5jWWg///zzKiwsVGtrqySprKxMOTk52rhxo8LhsKqrq61q\nGgAAR7IstMeMGaPVq1d3PK6vr1dycrIkKTU1VbW1tVY1DQCAI3mteuP09HQdOnSo43E4HJbL5ZIk\nxcbGqqmpqdv3iI8fLK/XY1WJjuHxnDn3GjFiqM2VwCk4phBJHE+RY1lo/zu3+/879X6/X3Fxcd2+\nxuc7ZWVJjhEMnhkfcPRo9ydCQE9wTCGSOJ6+ma5ObqI2enzy5Mmqq6uTJNXU1CgpKSlaTQMA4AhR\nC+28vDytXr1a8+bNUyAQUHp6erSaBgDAESy9PD569Gi9+uqrkqRx48apoqLCyuYAAHA0JlcBAMAQ\nhDYAAIYgtAEAMAShDQCAIQhtAAAMQWgDAGAIQhsAAEMQ2gAAGILQBgDAEIQ2AACGILQBADAEoQ0A\ngCEIbQAADEFoAwBgCEIbAABDWLqeNoDeefXVDdq9uy7q7R4/fkySlJu7NKrtTp+eorlzF0a1TcAk\n9LQBADAEPW2gD5s7d2HUe57r1/9e27e/KUmaOvU/lZ29KKrtA7gwetoAOtmx463zbgOwH6ENAIAh\nCG0AnVx33X+ddxuA/QhtAJ2MGvXt824DsB+hDaCTbdsqz7sNwH6ENgAAhiC0AXQyceKk824DsB+h\nDaCT995797zbAOzH5CoRZNeUkz5fo6ToTzkpMe2kEwWDwfNuA7BfVEM7FAqptLRUBw4c0IABA7Rs\n2TKNHTs2miU40oABA+0uAQ7icrkUDoc7tuEsdnQu6FhETlRD+80331RbW5teeeUV7d27VytWrNBz\nzz0XzRIsZceUk0CkXX/9jR3TmF5//Y02VwMnoGMROa7w2VPqKCgrK9PUqVN1yy23SJKuvfZa7dy5\n84Lff/RoU7RKA/A1ixefOfl84YUNNlcC9D8jRgy94HNR7Wk3NzdryJAhHY89Ho/a29vl9Z6/jPj4\nwfJ6PdEqD8C/3HTTTZK6/ucBIPqiGtpDhgyR3+/veBwKhS4Y2JLk852KRlkA/k1m5o8lcbULsENX\nJ8tR/cjXD3/4Q9XU1EiS9u7dq8svvzyazQMAYLSo9rTT0tK0a9cuzZ8/X+FwWMuXL49m8wAAGC2q\nA9G+KS7NAQD6mz5zeRwAAFw8QhsAAEMQ2gAAGILQBgDAEIQ2AACGILQBADAEoQ0AgCH69Oe0AQDA\n/6OnDQCAIQhtAAAMQWgDAGAIQhsAAEMQ2gAAGILQBgDAEIS2A7z77rvKzs62uww4QCAQUG5urrKy\nspSZmanq6mq7S4LhgsGgHn74Yc2fP18LFizQBx98YHdJRvPaXQB65/nnn1dVVZViYmLsLgUOUFVV\npWHDhqm8vFxfffWVbr31Vt144412lwWDbd++XZK0adMm1dXV6amnntJzzz1nc1XmoqdtuDFjxmj1\n6tV2lwGHmDVrlh544AFJUjgclsfjsbkimG7GjBl67LHHJEmHDx9WXFyczRWZjZ624dLT03Xo0CG7\ny4BDxMbGSpKam5u1dOlS5eTk2FwRnMDr9SovL09vvPGGnnnmGbvLMRo9bQCdfPHFF7rzzjuVkZGh\n2bNn210OHGLlypV6/fXXVVRUpFOnTtldjrEIbQAdjh07pkWLFik3N1eZmZl2lwMH2Lp1q9atWydJ\niomJkcvlkttN9FwsfnIAOqxdu1YnT57UmjVrlJ2drezsbJ0+fdrusmCwmTNnat++fVq4cKEWL16s\ngoICDRo0yO6yjMUqXwAAGIKeNgAAhiC0AQAwBKENAIAhCG0AAAxBaAMAYAhmRAMc6tChQ5o1a5bG\njx8vl8ulQCCgkSNHqqysTN/+9rfP+f7Kykq98847WrFihQ3VAugJetqAg40cOVLbtm3T1q1b9Ze/\n/EVTpkzpmAcagHnoaQP9SFJSkt566y3V1tZqxYoVCofDuuyyy/Tkk092+r7XXntNL774ok6fPq3W\n1lYtW7ZM06dP14svvqgtW7bI7XZr6tSpevTRR9XQ0KDi4mK1t7dr4MCBKisr0/e+9z17dhBwOHra\nQD8RCAT02muvaerUqXrwwQe1cuVK/fnPf9bEiRO1ZcuWju8LhULatGmT1q5dq6qqKt1zzz164YUX\n1N7ernXr1mnz5s2qrKyUy+XSkSNH9NJLL+muu+5SZWWlsrOztXfvXhv3EnA2etqAg/3zn/9URkaG\nJKmtrU1Tp05VVlaWGhoadMUVV0iSfvnLX0o6c09bktxut5599lm99dZbOnjwoN555x253W55vV5N\nmzZNmZmZuvHGG7Vw4UKNGjVK1113nR599FHt3LlTN9xwg9LT0+3ZWaAfILQBBzt7T/vrGhoaOj1u\namqS3+/veOz3+3X77bcrIyND06dP18SJE7VhwwZJ0po1a7R3717V1NTo7rvv1hNPPKFZs2Zp2rRp\n2r59u1566SXt2LFDy5Yts37ngH6I0Ab6mXHjxqmxsVEfffSRJkyYoN/97neSpLFjx0qSPv74Y7nd\nbi1ZskSSVFhYqGAwqMbGRmVlZWnz5s2aNm2avvzySx04cEAbN27ULbfcovnz52v8+PEqKyuzbd8A\npyO0gX5m4MCBKi8v10MPPaRAIKAxY8bo8ccf1+uvvy5JmjRpkq644grddNNNGjRokKZPn67Dhw9r\n+PDhmj9/vjIzMxUTE6PvfOc7uu222zR9+nQ98sgjWrNmjTwej/Lz823eQ8C5WOULAABDMHocAABD\nENoAABiC0AYAwBCENgAAhiC0AQAwBKENAIAhCG0AAAxBaAMAYIj/A3gSQRSrbkSIAAAAAElFTkSu\nQmCC\n",
      "text/plain": [
       "<matplotlib.figure.Figure at 0x1140f2160>"
      ]
     },
     "metadata": {},
     "output_type": "display_data"
    }
   ],
   "source": [
    "sns.boxplot(data['Pclass'], data['Age']);"
   ]
  }
 ],
 "metadata": {
  "anaconda-cloud": {},
  "kernelspec": {
   "display_name": "Python 2",
   "language": "python",
   "name": "python2"
  },
  "language_info": {
   "codemirror_mode": {
    "name": "ipython",
    "version": 2
   },
   "file_extension": ".py",
   "mimetype": "text/x-python",
   "name": "python",
   "nbconvert_exporter": "python",
<<<<<<< HEAD
   "pygments_lexer": "ipython2",
   "version": "2.7.13"
=======
   "pygments_lexer": "ipython3",
   "version": "3.6.3"
>>>>>>> upstream/master
  },
  "name": "seminar02_practice_pandas_titanic.ipynb"
 },
 "nbformat": 4,
 "nbformat_minor": 1
}
